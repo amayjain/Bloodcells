{
 "cells": [
  {
   "cell_type": "code",
   "execution_count": 4,
   "id": "aa344e92-cd93-41b1-b490-5ae2db2de245",
   "metadata": {},
   "outputs": [],
   "source": [
    "import numpy as np\n",
    "import pandas as pd\n",
    "import matplotlib.pyplot as plt\n",
    "from PIL import Image"
   ]
  },
  {
   "cell_type": "code",
   "execution_count": 2,
   "id": "af6c672d-0d71-44f9-b42a-08950f2d7d80",
   "metadata": {},
   "outputs": [],
   "source": [
    "training_descriptions = pd.read_csv('Training_set.csv')"
   ]
  },
  {
   "cell_type": "code",
   "execution_count": 3,
   "id": "68434ea8-8ad8-46ae-8fb2-0347df3b3ec2",
   "metadata": {},
   "outputs": [
    {
     "data": {
      "text/html": [
       "<div>\n",
       "<style scoped>\n",
       "    .dataframe tbody tr th:only-of-type {\n",
       "        vertical-align: middle;\n",
       "    }\n",
       "\n",
       "    .dataframe tbody tr th {\n",
       "        vertical-align: top;\n",
       "    }\n",
       "\n",
       "    .dataframe thead th {\n",
       "        text-align: right;\n",
       "    }\n",
       "</style>\n",
       "<table border=\"1\" class=\"dataframe\">\n",
       "  <thead>\n",
       "    <tr style=\"text-align: right;\">\n",
       "      <th></th>\n",
       "      <th>filename</th>\n",
       "      <th>label</th>\n",
       "    </tr>\n",
       "  </thead>\n",
       "  <tbody>\n",
       "    <tr>\n",
       "      <th>0</th>\n",
       "      <td>Image_1.jpg</td>\n",
       "      <td>SOUTHERN DOGFACE</td>\n",
       "    </tr>\n",
       "    <tr>\n",
       "      <th>1</th>\n",
       "      <td>Image_2.jpg</td>\n",
       "      <td>ADONIS</td>\n",
       "    </tr>\n",
       "    <tr>\n",
       "      <th>2</th>\n",
       "      <td>Image_3.jpg</td>\n",
       "      <td>BROWN SIPROETA</td>\n",
       "    </tr>\n",
       "    <tr>\n",
       "      <th>3</th>\n",
       "      <td>Image_4.jpg</td>\n",
       "      <td>MONARCH</td>\n",
       "    </tr>\n",
       "    <tr>\n",
       "      <th>4</th>\n",
       "      <td>Image_5.jpg</td>\n",
       "      <td>GREEN CELLED CATTLEHEART</td>\n",
       "    </tr>\n",
       "    <tr>\n",
       "      <th>...</th>\n",
       "      <td>...</td>\n",
       "      <td>...</td>\n",
       "    </tr>\n",
       "    <tr>\n",
       "      <th>6494</th>\n",
       "      <td>Image_6495.jpg</td>\n",
       "      <td>MANGROVE SKIPPER</td>\n",
       "    </tr>\n",
       "    <tr>\n",
       "      <th>6495</th>\n",
       "      <td>Image_6496.jpg</td>\n",
       "      <td>MOURNING CLOAK</td>\n",
       "    </tr>\n",
       "    <tr>\n",
       "      <th>6496</th>\n",
       "      <td>Image_6497.jpg</td>\n",
       "      <td>APPOLLO</td>\n",
       "    </tr>\n",
       "    <tr>\n",
       "      <th>6497</th>\n",
       "      <td>Image_6498.jpg</td>\n",
       "      <td>ELBOWED PIERROT</td>\n",
       "    </tr>\n",
       "    <tr>\n",
       "      <th>6498</th>\n",
       "      <td>Image_6499.jpg</td>\n",
       "      <td>ATALA</td>\n",
       "    </tr>\n",
       "  </tbody>\n",
       "</table>\n",
       "<p>6499 rows × 2 columns</p>\n",
       "</div>"
      ],
      "text/plain": [
       "            filename                     label\n",
       "0        Image_1.jpg          SOUTHERN DOGFACE\n",
       "1        Image_2.jpg                    ADONIS\n",
       "2        Image_3.jpg            BROWN SIPROETA\n",
       "3        Image_4.jpg                   MONARCH\n",
       "4        Image_5.jpg  GREEN CELLED CATTLEHEART\n",
       "...              ...                       ...\n",
       "6494  Image_6495.jpg          MANGROVE SKIPPER\n",
       "6495  Image_6496.jpg            MOURNING CLOAK\n",
       "6496  Image_6497.jpg                   APPOLLO\n",
       "6497  Image_6498.jpg           ELBOWED PIERROT\n",
       "6498  Image_6499.jpg                     ATALA\n",
       "\n",
       "[6499 rows x 2 columns]"
      ]
     },
     "execution_count": 3,
     "metadata": {},
     "output_type": "execute_result"
    }
   ],
   "source": [
    "training_descriptions"
   ]
  },
  {
   "cell_type": "code",
   "execution_count": 8,
   "id": "f5ab9a87-233e-4a57-8b01-f9cf0ea5415e",
   "metadata": {},
   "outputs": [
    {
     "data": {
      "text/plain": [
       "(224, 224, 3)"
      ]
     },
     "execution_count": 8,
     "metadata": {},
     "output_type": "execute_result"
    }
   ],
   "source": [
    "test1 = np.array(Image.open('Train/Image_1.jpg'))\n",
    "test2 = np.array(Image.open('Train/Image_2.jpg'))\n",
    "\n",
    "test.shape"
   ]
  },
  {
   "cell_type": "code",
   "execution_count": 14,
   "id": "f4b38423-f42c-4a43-88f8-453ba457bf76",
   "metadata": {},
   "outputs": [
    {
     "data": {
      "text/plain": [
       "(2, 224, 224, 3)"
      ]
     },
     "execution_count": 14,
     "metadata": {},
     "output_type": "execute_result"
    }
   ],
   "source": [
    "combined = np.stack((test1, test2), axis = 0)\n",
    "\n",
    "combined.shape"
   ]
  },
  {
   "cell_type": "code",
   "execution_count": 18,
   "id": "81f35c4e-459e-4937-9f41-f99b0b742750",
   "metadata": {},
   "outputs": [
    {
     "data": {
      "text/plain": [
       "0          Image_1.jpg\n",
       "1          Image_2.jpg\n",
       "2          Image_3.jpg\n",
       "3          Image_4.jpg\n",
       "4          Image_5.jpg\n",
       "             ...      \n",
       "6494    Image_6495.jpg\n",
       "6495    Image_6496.jpg\n",
       "6496    Image_6497.jpg\n",
       "6497    Image_6498.jpg\n",
       "6498    Image_6499.jpg\n",
       "Name: filename, Length: 6499, dtype: object"
      ]
     },
     "execution_count": 18,
     "metadata": {},
     "output_type": "execute_result"
    }
   ],
   "source": [
    "training_descriptions['filename']"
   ]
  },
  {
   "cell_type": "code",
   "execution_count": 23,
   "id": "8dea1705-8b21-45ea-9f7b-35dd398af5fe",
   "metadata": {},
   "outputs": [],
   "source": [
    "# initialize image data\n",
    "training_data = np.array(Image.open('Train/Image_1.jpg'))"
   ]
  },
  {
   "cell_type": "code",
   "execution_count": 25,
   "id": "7b8c5fb0-4360-4b12-b142-f42c46072368",
   "metadata": {},
   "outputs": [
    {
     "name": "stdout",
     "output_type": "stream",
     "text": [
      "(224, 224, 3)\n",
      "(224, 224, 3)\n",
      "(2, 224, 224, 3)\n",
      "(1, 224, 224, 3)\n"
     ]
    },
    {
     "ename": "ValueError",
     "evalue": "all input arrays must have the same shape",
     "output_type": "error",
     "traceback": [
      "\u001b[0;31m---------------------------------------------------------------------------\u001b[0m",
      "\u001b[0;31mValueError\u001b[0m                                Traceback (most recent call last)",
      "Cell \u001b[0;32mIn[25], line 12\u001b[0m\n\u001b[1;32m      8\u001b[0m     image_values \u001b[38;5;241m=\u001b[39m np\u001b[38;5;241m.\u001b[39marray(Image\u001b[38;5;241m.\u001b[39mopen(\u001b[38;5;124m'\u001b[39m\u001b[38;5;124mTrain/\u001b[39m\u001b[38;5;124m'\u001b[39m \u001b[38;5;241m+\u001b[39m training_descriptions[\u001b[38;5;124m'\u001b[39m\u001b[38;5;124mfilename\u001b[39m\u001b[38;5;124m'\u001b[39m][i]))\n\u001b[1;32m     10\u001b[0m \u001b[38;5;28mprint\u001b[39m(image_values\u001b[38;5;241m.\u001b[39mshape)\n\u001b[0;32m---> 12\u001b[0m training_data \u001b[38;5;241m=\u001b[39m \u001b[43mnp\u001b[49m\u001b[38;5;241;43m.\u001b[39;49m\u001b[43mstack\u001b[49m\u001b[43m(\u001b[49m\u001b[43m(\u001b[49m\u001b[43mtraining_data\u001b[49m\u001b[43m,\u001b[49m\u001b[43m \u001b[49m\u001b[43mimage_values\u001b[49m\u001b[43m)\u001b[49m\u001b[43m,\u001b[49m\u001b[43m \u001b[49m\u001b[43maxis\u001b[49m\u001b[43m \u001b[49m\u001b[38;5;241;43m=\u001b[39;49m\u001b[43m \u001b[49m\u001b[38;5;241;43m0\u001b[39;49m\u001b[43m)\u001b[49m\n",
      "File \u001b[0;32m<__array_function__ internals>:200\u001b[0m, in \u001b[0;36mstack\u001b[0;34m(*args, **kwargs)\u001b[0m\n",
      "File \u001b[0;32m/opt/anaconda3/lib/python3.8/site-packages/numpy/core/shape_base.py:464\u001b[0m, in \u001b[0;36mstack\u001b[0;34m(arrays, axis, out, dtype, casting)\u001b[0m\n\u001b[1;32m    462\u001b[0m shapes \u001b[38;5;241m=\u001b[39m {arr\u001b[38;5;241m.\u001b[39mshape \u001b[38;5;28;01mfor\u001b[39;00m arr \u001b[38;5;129;01min\u001b[39;00m arrays}\n\u001b[1;32m    463\u001b[0m \u001b[38;5;28;01mif\u001b[39;00m \u001b[38;5;28mlen\u001b[39m(shapes) \u001b[38;5;241m!=\u001b[39m \u001b[38;5;241m1\u001b[39m:\n\u001b[0;32m--> 464\u001b[0m     \u001b[38;5;28;01mraise\u001b[39;00m \u001b[38;5;167;01mValueError\u001b[39;00m(\u001b[38;5;124m'\u001b[39m\u001b[38;5;124mall input arrays must have the same shape\u001b[39m\u001b[38;5;124m'\u001b[39m)\n\u001b[1;32m    466\u001b[0m result_ndim \u001b[38;5;241m=\u001b[39m arrays[\u001b[38;5;241m0\u001b[39m]\u001b[38;5;241m.\u001b[39mndim \u001b[38;5;241m+\u001b[39m \u001b[38;5;241m1\u001b[39m\n\u001b[1;32m    467\u001b[0m axis \u001b[38;5;241m=\u001b[39m normalize_axis_index(axis, result_ndim)\n",
      "\u001b[0;31mValueError\u001b[0m: all input arrays must have the same shape"
     ]
    }
   ],
   "source": [
    "for i in range(1, len(training_descriptions)):\n",
    "\n",
    "    print(training_data.shape)\n",
    "\n",
    "    if i > 1:\n",
    "        image_values = np.array(Image.open('Train/' + training_descriptions['filename'][i])).reshape((1, 224, 224, 3))\n",
    "    else:   \n",
    "        image_values = np.array(Image.open('Train/' + training_descriptions['filename'][i]))\n",
    "        \n",
    "    print(image_values.shape)\n",
    "\n",
    "    training_data = np.stack((training_data, image_values), axis = 0)"
   ]
  },
  {
   "cell_type": "code",
   "execution_count": 26,
   "id": "a95a0bac-0f56-408c-9f95-e9038f4717ac",
   "metadata": {},
   "outputs": [],
   "source": [
    "x = np.array([np.array(Image.open('Train/' + image_jpg)) for image_jpg in training_descriptions['filename']])"
   ]
  },
  {
   "cell_type": "code",
   "execution_count": 27,
   "id": "ad63fb38-d092-4954-b8c2-d7488d87c56b",
   "metadata": {},
   "outputs": [
    {
     "data": {
      "text/plain": [
       "(6499, 224, 224, 3)"
      ]
     },
     "execution_count": 27,
     "metadata": {},
     "output_type": "execute_result"
    }
   ],
   "source": [
    "x.shape"
   ]
  }
 ],
 "metadata": {
  "kernelspec": {
   "display_name": "Python 3 (ipykernel)",
   "language": "python",
   "name": "python3"
  },
  "language_info": {
   "codemirror_mode": {
    "name": "ipython",
    "version": 3
   },
   "file_extension": ".py",
   "mimetype": "text/x-python",
   "name": "python",
   "nbconvert_exporter": "python",
   "pygments_lexer": "ipython3",
   "version": "3.8.18"
  }
 },
 "nbformat": 4,
 "nbformat_minor": 5
}
