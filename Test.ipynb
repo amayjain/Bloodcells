{
 "cells": [
  {
   "cell_type": "code",
   "execution_count": 4,
   "id": "aa344e92-cd93-41b1-b490-5ae2db2de245",
   "metadata": {},
   "outputs": [],
   "source": [
    "import numpy as np\n",
    "import pandas as pd\n",
    "import matplotlib.pyplot as plt\n",
    "from PIL import Image"
   ]
  },
  {
   "cell_type": "code",
   "execution_count": 28,
   "id": "af6c672d-0d71-44f9-b42a-08950f2d7d80",
   "metadata": {},
   "outputs": [],
   "source": [
    "training_descriptions = pd.read_csv('Training_set.csv')\n",
    "testing_descriptions = pd.read_csv('Testing_set.csv')"
   ]
  },
  {
   "cell_type": "code",
   "execution_count": 33,
   "id": "68434ea8-8ad8-46ae-8fb2-0347df3b3ec2",
   "metadata": {},
   "outputs": [
    {
     "data": {
      "text/plain": [
       "array(['SOUTHERN DOGFACE', 'ADONIS', 'BROWN SIPROETA', 'MONARCH',\n",
       "       'GREEN CELLED CATTLEHEART', 'CAIRNS BIRDWING',\n",
       "       'EASTERN DAPPLE WHITE', 'RED POSTMAN', 'MANGROVE SKIPPER',\n",
       "       'BLACK HAIRSTREAK', 'CABBAGE WHITE', 'RED ADMIRAL', 'PAINTED LADY',\n",
       "       'PAPER KITE', 'SOOTYWING', 'PINE WHITE', 'PEACOCK',\n",
       "       'CHECQUERED SKIPPER', 'JULIA', 'COMMON WOOD-NYMPH', 'BLUE MORPHO',\n",
       "       'CLOUDED SULPHUR', 'STRAITED QUEEN', 'ORANGE OAKLEAF',\n",
       "       'PURPLISH COPPER', 'ATALA', 'IPHICLUS SISTER', 'DANAID EGGFLY',\n",
       "       'LARGE MARBLE', 'PIPEVINE SWALLOW', 'BLUE SPOTTED CROW',\n",
       "       'RED CRACKER', 'QUESTION MARK', 'CRIMSON PATCH', 'BANDED PEACOCK',\n",
       "       'SCARCE SWALLOW', 'COPPER TAIL', 'GREAT JAY', 'INDRA SWALLOW',\n",
       "       'VICEROY', 'MALACHITE', 'APPOLLO', 'TWO BARRED FLASHER',\n",
       "       'MOURNING CLOAK', 'TROPICAL LEAFWING', 'POPINJAY', 'ORANGE TIP',\n",
       "       'GOLD BANDED', 'BECKERS WHITE', 'RED SPOTTED PURPLE',\n",
       "       'MILBERTS TORTOISESHELL', 'SILVER SPOT SKIPPER', 'AMERICAN SNOOT',\n",
       "       'AN 88', 'ULYSES', 'COMMON BANDED AWL', 'CRECENT', 'METALMARK',\n",
       "       'SLEEPY ORANGE', 'PURPLE HAIRSTREAK', 'ELBOWED PIERROT',\n",
       "       'GREAT EGGFLY', 'ORCHARD SWALLOW', 'ZEBRA LONG WING', 'WOOD SATYR',\n",
       "       'MESTRA', 'EASTERN PINE ELFIN', 'EASTERN COMA',\n",
       "       'YELLOW SWALLOW TAIL', 'CLEOPATRA', 'GREY HAIRSTREAK',\n",
       "       'BANDED ORANGE HELICONIAN', 'AFRICAN GIANT SWALLOWTAIL',\n",
       "       'CHESTNUT', 'CLODIUS PARNASSIAN'], dtype=object)"
      ]
     },
     "execution_count": 33,
     "metadata": {},
     "output_type": "execute_result"
    }
   ],
   "source": [
    "training_descriptions['label'].unique()"
   ]
  },
  {
   "cell_type": "code",
   "execution_count": 35,
   "id": "f74ac196-b423-4fef-9505-2f08bbb966bb",
   "metadata": {},
   "outputs": [
    {
     "data": {
      "text/html": [
       "<div>\n",
       "<style scoped>\n",
       "    .dataframe tbody tr th:only-of-type {\n",
       "        vertical-align: middle;\n",
       "    }\n",
       "\n",
       "    .dataframe tbody tr th {\n",
       "        vertical-align: top;\n",
       "    }\n",
       "\n",
       "    .dataframe thead th {\n",
       "        text-align: right;\n",
       "    }\n",
       "</style>\n",
       "<table border=\"1\" class=\"dataframe\">\n",
       "  <thead>\n",
       "    <tr style=\"text-align: right;\">\n",
       "      <th></th>\n",
       "      <th>filename</th>\n",
       "    </tr>\n",
       "  </thead>\n",
       "  <tbody>\n",
       "    <tr>\n",
       "      <th>0</th>\n",
       "      <td>Image_1.jpg</td>\n",
       "    </tr>\n",
       "    <tr>\n",
       "      <th>1</th>\n",
       "      <td>Image_2.jpg</td>\n",
       "    </tr>\n",
       "    <tr>\n",
       "      <th>2</th>\n",
       "      <td>Image_3.jpg</td>\n",
       "    </tr>\n",
       "    <tr>\n",
       "      <th>3</th>\n",
       "      <td>Image_4.jpg</td>\n",
       "    </tr>\n",
       "    <tr>\n",
       "      <th>4</th>\n",
       "      <td>Image_5.jpg</td>\n",
       "    </tr>\n",
       "    <tr>\n",
       "      <th>...</th>\n",
       "      <td>...</td>\n",
       "    </tr>\n",
       "    <tr>\n",
       "      <th>2781</th>\n",
       "      <td>Image_2782.jpg</td>\n",
       "    </tr>\n",
       "    <tr>\n",
       "      <th>2782</th>\n",
       "      <td>Image_2783.jpg</td>\n",
       "    </tr>\n",
       "    <tr>\n",
       "      <th>2783</th>\n",
       "      <td>Image_2784.jpg</td>\n",
       "    </tr>\n",
       "    <tr>\n",
       "      <th>2784</th>\n",
       "      <td>Image_2785.jpg</td>\n",
       "    </tr>\n",
       "    <tr>\n",
       "      <th>2785</th>\n",
       "      <td>Image_2786.jpg</td>\n",
       "    </tr>\n",
       "  </tbody>\n",
       "</table>\n",
       "<p>2786 rows × 1 columns</p>\n",
       "</div>"
      ],
      "text/plain": [
       "            filename\n",
       "0        Image_1.jpg\n",
       "1        Image_2.jpg\n",
       "2        Image_3.jpg\n",
       "3        Image_4.jpg\n",
       "4        Image_5.jpg\n",
       "...              ...\n",
       "2781  Image_2782.jpg\n",
       "2782  Image_2783.jpg\n",
       "2783  Image_2784.jpg\n",
       "2784  Image_2785.jpg\n",
       "2785  Image_2786.jpg\n",
       "\n",
       "[2786 rows x 1 columns]"
      ]
     },
     "execution_count": 35,
     "metadata": {},
     "output_type": "execute_result"
    }
   ],
   "source": [
    "testing_descriptions"
   ]
  },
  {
   "cell_type": "code",
   "execution_count": 29,
   "id": "a95a0bac-0f56-408c-9f95-e9038f4717ac",
   "metadata": {},
   "outputs": [],
   "source": [
    "train_data = np.array([np.array(Image.open('Train/' + image_jpg)) for image_jpg in training_descriptions['filename']])\n",
    "test_data = np.array([np.array(Image.open('Test/' + image_jpg)) for image_jpg in testing_descriptions['filename']])"
   ]
  },
  {
   "cell_type": "code",
   "execution_count": null,
   "id": "ad63fb38-d092-4954-b8c2-d7488d87c56b",
   "metadata": {},
   "outputs": [],
   "source": [
    "train_data, test_data = train_data / 255, test_data / 255"
   ]
  }
 ],
 "metadata": {
  "kernelspec": {
   "display_name": "Python 3 (ipykernel)",
   "language": "python",
   "name": "python3"
  },
  "language_info": {
   "codemirror_mode": {
    "name": "ipython",
    "version": 3
   },
   "file_extension": ".py",
   "mimetype": "text/x-python",
   "name": "python",
   "nbconvert_exporter": "python",
   "pygments_lexer": "ipython3",
   "version": "3.8.18"
  }
 },
 "nbformat": 4,
 "nbformat_minor": 5
}
